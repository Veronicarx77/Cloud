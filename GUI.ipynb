{
 "cells": [
  {
   "cell_type": "code",
   "execution_count": 1,
   "id": "7ebfd819",
   "metadata": {},
   "outputs": [],
   "source": [
    "import ipywidgets as widgets\n",
    "from IPython.display import display\n",
    "import requests"
   ]
  },
  {
   "cell_type": "code",
   "execution_count": 3,
   "id": "4aae53c3",
   "metadata": {},
   "outputs": [
    {
     "data": {
      "application/vnd.jupyter.widget-view+json": {
       "model_id": "bf114bd89b15470898dbfa47c05137fc",
       "version_major": 2,
       "version_minor": 0
      },
      "text/plain": [
       "Text(value='', description='Age', placeholder='Type Your Age')"
      ]
     },
     "metadata": {},
     "output_type": "display_data"
    },
    {
     "data": {
      "application/vnd.jupyter.widget-view+json": {
       "model_id": "2646e8aec003495ebc01985d537939b2",
       "version_major": 2,
       "version_minor": 0
      },
      "text/plain": [
       "Dropdown(description='Gender', options=((' ', 0), ('Female', 1), ('Male', 2), ('Other', 3)), value=0)"
      ]
     },
     "metadata": {},
     "output_type": "display_data"
    },
    {
     "data": {
      "application/vnd.jupyter.widget-view+json": {
       "model_id": "1447e545053e46bf8a8b414ac4796022",
       "version_major": 2,
       "version_minor": 0
      },
      "text/plain": [
       "Dropdown(description='Do you have hypertension?', options=((' ', 0), ('Yes', 1), ('No', 0)), value=0)"
      ]
     },
     "metadata": {},
     "output_type": "display_data"
    },
    {
     "data": {
      "application/vnd.jupyter.widget-view+json": {
       "model_id": "b57eeb90a16d4dd7bb5705becf010574",
       "version_major": 2,
       "version_minor": 0
      },
      "text/plain": [
       "Dropdown(description='Do you have heart disease?', options=((' ', 0), ('Yes', 1), ('No', 0)), value=0)"
      ]
     },
     "metadata": {},
     "output_type": "display_data"
    },
    {
     "data": {
      "application/vnd.jupyter.widget-view+json": {
       "model_id": "ce24017bcc4d4aae8b512c2b36c8c25d",
       "version_major": 2,
       "version_minor": 0
      },
      "text/plain": [
       "Text(value='', description='BMI', placeholder='Type Your BMI')"
      ]
     },
     "metadata": {},
     "output_type": "display_data"
    },
    {
     "data": {
      "application/vnd.jupyter.widget-view+json": {
       "model_id": "ebd229dffdd1443481650032fd4622b8",
       "version_major": 2,
       "version_minor": 0
      },
      "text/plain": [
       "Text(value='', description='HbA1c_level', placeholder='Type Your HbA1c Level')"
      ]
     },
     "metadata": {},
     "output_type": "display_data"
    },
    {
     "data": {
      "application/vnd.jupyter.widget-view+json": {
       "model_id": "fc2c14f8b6ff43aba1205ad9165fb2e2",
       "version_major": 2,
       "version_minor": 0
      },
      "text/plain": [
       "Text(value='', description='blood_glucose_level', placeholder='Type Your Blood Glucose Level')"
      ]
     },
     "metadata": {},
     "output_type": "display_data"
    },
    {
     "data": {
      "application/vnd.jupyter.widget-view+json": {
       "model_id": "6d872d2f6f08446596e171d878de30a6",
       "version_major": 2,
       "version_minor": 0
      },
      "text/plain": [
       "Button(description='Click when Inputs filled', style=ButtonStyle())"
      ]
     },
     "metadata": {},
     "output_type": "display_data"
    }
   ],
   "source": [
    "age = widgets.Text(\n",
    "    value = \"\",\n",
    "    placeholder = \"Type Your Age\",\n",
    "    description = \"Age\",\n",
    "    disabled = False)\n",
    "\n",
    "sex = widgets.Dropdown(\n",
    "    options=[(' ',0),('Female',1),('Male',2),('Other',3)],\n",
    "    description='Gender')\n",
    "\n",
    "hypertension = widgets.Dropdown(\n",
    "    options=[(' ',0),('Yes',1),('No',0)],\n",
    "    description='Do you have hypertension?')\n",
    "\n",
    "heart_disease = widgets.Dropdown(\n",
    "    options=[(' ',0),('Yes',1),('No',0)],\n",
    "    description='Do you have heart disease?')\n",
    "\n",
    "text_bmi = widgets.Text(\n",
    "    value = \"\",\n",
    "    placeholder = \"Type Your BMI\",\n",
    "    description = \"BMI\",\n",
    "    disabled = False)\n",
    "\n",
    "text_HbA1c_level = widgets.Text(\n",
    "    value = \"\",\n",
    "    placeholder = \"Type Your HbA1c Level\",\n",
    "    description = \"HbA1c_level\",\n",
    "    disabled = False)\n",
    "\n",
    "text_blood_glucose_level = widgets.Text(\n",
    "    value = \"\",\n",
    "    placeholder = \"Type Your Blood Glucose Level\",\n",
    "    description = \"blood_glucose_level\",\n",
    "    disabled = False)\n",
    "\n",
    "button = widgets.Button(description = \"Click when Inputs filled\")\n",
    "\n",
    "\n",
    "def my_function(button):\n",
    "    url = \"https://us-west2-stunning-vertex-387500.cloudfunctions.net/Diabetes\"\n",
    "    r = requests.post(url, { \n",
    "    'age':float(age.value),\n",
    "    'hypertension':int(hypertension.value),\n",
    "    'heart_disease':int(heart_disease.value),\n",
    "    'bmi':float(text_bmi.value),\n",
    "    'HbA1c_level':float(text_HbA1c_level.value),\n",
    "    'blood_glucose_level':int(text_blood_glucose_level.value),\n",
    "    'gender_Female':int(1) if sex.value == 1 else int(0),\n",
    "    'gender_Male':int(1) if sex.value == 2 else int(0),\n",
    "    'gender_Other':int(1) if sex.value == 3 else int(0)})\n",
    "\n",
    "    print(\"Prediction of Diabetes: \" , r.json()[\"prediction\"])\n",
    "    print(\"Probability of Diabetes: \" , r.json()[\"prob_of_diabetes\"])\n",
    "\n",
    "button.on_click(my_function)\n",
    "\n",
    "display(age)\n",
    "display(sex)\n",
    "display(hypertension)\n",
    "display(heart_disease)\n",
    "display(text_bmi)\n",
    "display(text_HbA1c_level)\n",
    "display(text_blood_glucose_level)\n",
    "display(button)"
   ]
  }
 ],
 "metadata": {
  "kernelspec": {
   "display_name": "Python 3 (ipykernel)",
   "language": "python",
   "name": "python3"
  },
  "language_info": {
   "codemirror_mode": {
    "name": "ipython",
    "version": 3
   },
   "file_extension": ".py",
   "mimetype": "text/x-python",
   "name": "python",
   "nbconvert_exporter": "python",
   "pygments_lexer": "ipython3",
   "version": "3.10.9"
  }
 },
 "nbformat": 4,
 "nbformat_minor": 5
}
